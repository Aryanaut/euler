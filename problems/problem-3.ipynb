{
 "cells": [
  {
   "cell_type": "markdown",
   "id": "korean-bedroom",
   "metadata": {},
   "source": [
    "The prime factors of 13195 are 5, 7, 13 and 29.\n",
    "\n",
    "What is the largest prime factor of the number 600851475143 ?"
   ]
  },
  {
   "cell_type": "code",
   "execution_count": 10,
   "id": "breathing-massage",
   "metadata": {},
   "outputs": [],
   "source": [
    "def primeFactors(n):\n",
    "    f = 2\n",
    "    factors = []\n",
    "    while n >= f*f:\n",
    "        if n % f == 0:\n",
    "            factors.append(f)\n",
    "            n = n / f\n",
    "        else:\n",
    "            f += 1\n",
    "    factors.append(int(n))\n",
    "    return factors"
   ]
  },
  {
   "cell_type": "code",
   "execution_count": 13,
   "id": "bacterial-universe",
   "metadata": {},
   "outputs": [
    {
     "name": "stdout",
     "output_type": "stream",
     "text": [
      "[71, 839, 1471, 6857]\n",
      "6857\n"
     ]
    }
   ],
   "source": [
    "pf = primeFactors(600851475143)\n",
    "print(pf)\n",
    "print(max(pf))"
   ]
  }
 ],
 "metadata": {
  "kernelspec": {
   "display_name": "Python 3",
   "language": "python",
   "name": "python3"
  },
  "language_info": {
   "codemirror_mode": {
    "name": "ipython",
    "version": 3
   },
   "file_extension": ".py",
   "mimetype": "text/x-python",
   "name": "python",
   "nbconvert_exporter": "python",
   "pygments_lexer": "ipython3",
   "version": "3.6.8"
  }
 },
 "nbformat": 4,
 "nbformat_minor": 5
}
