{
 "cells": [
  {
   "cell_type": "markdown",
   "id": "organic-perception",
   "metadata": {},
   "source": [
    "## Problem 6\n",
    "The sum of the squares of the first ten natural numbers is,\n",
    "\n",
    "1^2 + 2^2 + ... + 10^2 = 385\n",
    "\n",
    "The square of the sum of the first ten natural numbers is,\n",
    "\n",
    "(1 + 2 + ... + 10)^2 = 55^2 = 3025\n",
    "\n",
    "Hence the difference between the sum of the squares of the first ten natural numbers and the square of the sum is 3025 - 385 = 2640.\n",
    "\n",
    "Find the difference between the sum of the squares of the first one hundred natural numbers and the square of the sum."
   ]
  },
  {
   "cell_type": "markdown",
   "id": "round-dream",
   "metadata": {},
   "source": [
    "## Needs optimisation"
   ]
  },
  {
   "cell_type": "code",
   "execution_count": 16,
   "id": "induced-shakespeare",
   "metadata": {},
   "outputs": [
    {
     "name": "stdout",
     "output_type": "stream",
     "text": [
      "25164150.0\n"
     ]
    }
   ],
   "source": [
    "squares = list(range(1, 101))\n",
    "for i in range(100):\n",
    "    squares[i] = pow(squares[i], 2)\n",
    "    \n",
    "sumOfSquares = sum(squares)\n",
    "squareOfSum = pow((100/2*(100+1)), 2)\n",
    "0\n",
    "print(squareOfSum - sumOfSquares)\n",
    "\n",
    "# answer = 25164150"
   ]
  }
 ],
 "metadata": {
  "kernelspec": {
   "display_name": "Python 3",
   "language": "python",
   "name": "python3"
  },
  "language_info": {
   "codemirror_mode": {
    "name": "ipython",
    "version": 3
   },
   "file_extension": ".py",
   "mimetype": "text/x-python",
   "name": "python",
   "nbconvert_exporter": "python",
   "pygments_lexer": "ipython3",
   "version": "3.6.8"
  }
 },
 "nbformat": 4,
 "nbformat_minor": 5
}
