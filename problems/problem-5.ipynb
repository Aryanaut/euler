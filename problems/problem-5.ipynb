{
 "cells": [
  {
   "cell_type": "markdown",
   "id": "several-editor",
   "metadata": {},
   "source": [
    "# Problem 5\n",
    "\n",
    "2520 is the smallest number that can be divided by each of the numbers from 1 to 10 without any remainder.\n",
    "\n",
    "What is the smallest positive number that is evenly divisible by all of the numbers from 1 to 20?"
   ]
  },
  {
   "cell_type": "markdown",
   "id": "loaded-wrist",
   "metadata": {},
   "source": [
    "## Solution\n",
    " - get_primes < N as list [k1, k2 .... kn]\n",
    " - for each prime check if k^p > N\n",
    " - when k^p > N, take k^(p-1) into another list f[f1, f2, f3 ... fn]\n",
    " - do this for all values [k1, k2 .... kn]\n",
    " - final answer is product of all items in list f[]"
   ]
  },
  {
   "cell_type": "code",
   "execution_count": 90,
   "id": "ranging-highland",
   "metadata": {},
   "outputs": [],
   "source": [
    "import math"
   ]
  },
  {
   "cell_type": "code",
   "execution_count": 146,
   "id": "imperial-huntington",
   "metadata": {},
   "outputs": [],
   "source": [
    "def isPrime(n):\n",
    "    if n > 1:\n",
    "        for i in range(2, n):\n",
    "            if (n % i) == 0:\n",
    "                prime = False\n",
    "                break\n",
    "        else:\n",
    "            prime = True\n",
    "    else:\n",
    "        prime = False\n",
    "    return prime"
   ]
  },
  {
   "cell_type": "code",
   "execution_count": 147,
   "id": "graphic-retirement",
   "metadata": {},
   "outputs": [],
   "source": [
    "def getPrimes(end):\n",
    "    primes = []\n",
    "    for x in range(2, end):\n",
    "        p = isPrime(x)\n",
    "        if p == True:\n",
    "            primes.append(x)\n",
    "    return primes"
   ]
  },
  {
   "cell_type": "code",
   "execution_count": 150,
   "id": "eight-tracy",
   "metadata": {},
   "outputs": [
    {
     "name": "stdout",
     "output_type": "stream",
     "text": [
      "[16, 9, 5, 7, 11, 13, 17, 19]\n",
      "232792560\n"
     ]
    }
   ],
   "source": [
    "primeNos = getPrimes(20)\n",
    "f = []\n",
    "p = 1\n",
    "for e in primeNos:\n",
    "    while (pow(e, p)) < 20:\n",
    "        p += 1\n",
    "    f.append(pow(e, p-1))\n",
    "    p = 1\n",
    "\n",
    "ans = 1    \n",
    "print(f)\n",
    "for item in f:\n",
    "    ans = ans * item\n",
    "\n",
    "print(ans)"
   ]
  }
 ],
 "metadata": {
  "kernelspec": {
   "display_name": "Python 3",
   "language": "python",
   "name": "python3"
  },
  "language_info": {
   "codemirror_mode": {
    "name": "ipython",
    "version": 3
   },
   "file_extension": ".py",
   "mimetype": "text/x-python",
   "name": "python",
   "nbconvert_exporter": "python",
   "pygments_lexer": "ipython3",
   "version": "3.6.8"
  }
 },
 "nbformat": 4,
 "nbformat_minor": 5
}
