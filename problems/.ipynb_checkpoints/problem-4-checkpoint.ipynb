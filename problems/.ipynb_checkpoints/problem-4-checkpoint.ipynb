{
 "cells": [
  {
   "cell_type": "markdown",
   "id": "figured-target",
   "metadata": {},
   "source": [
    "A palindromic number reads the same both ways. The largest palindrome made from the product of two 2-digit numbers is 9009 = 91 × 99.\n",
    "\n",
    "Find the largest palindrome made from the product of two 3-digit numbers."
   ]
  },
  {
   "cell_type": "code",
   "execution_count": 17,
   "id": "centered-output",
   "metadata": {},
   "outputs": [
    {
     "name": "stdout",
     "output_type": "stream",
     "text": [
      "906609\n"
     ]
    }
   ],
   "source": [
    "nums = list(range(100, 1000))\n",
    "nums = sorted(nums, reverse=True)\n",
    "finalVal = 0\n",
    "a = []\n",
    "for i in nums:\n",
    "    for j in nums:\n",
    "        p = i * j\n",
    "        k = str(p)\n",
    "        if k == k[::-1]:\n",
    "            a.append(p)\n",
    "print(max(a))"
   ]
  }
 ],
 "metadata": {
  "kernelspec": {
   "display_name": "Python 3",
   "language": "python",
   "name": "python3"
  },
  "language_info": {
   "codemirror_mode": {
    "name": "ipython",
    "version": 3
   },
   "file_extension": ".py",
   "mimetype": "text/x-python",
   "name": "python",
   "nbconvert_exporter": "python",
   "pygments_lexer": "ipython3",
   "version": "3.6.8"
  }
 },
 "nbformat": 4,
 "nbformat_minor": 5
}
