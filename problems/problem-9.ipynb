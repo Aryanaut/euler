{
 "cells": [
  {
   "cell_type": "markdown",
   "id": "premium-sustainability",
   "metadata": {},
   "source": [
    "## Problem 9\n",
    "A Pythagorean triplet is a set of three natural numbers, a < b < c, for which,\n",
    "\n",
    "a2 + b2 = c2\n",
    "For example, 3^2 + 4^2 = 9 + 16 = 25 = 5^2.\n",
    "\n",
    "There exists exactly one Pythagorean triplet for which a + b + c = 1000.\n",
    "Find the product abc."
   ]
  },
  {
   "cell_type": "markdown",
   "id": "athletic-slovak",
   "metadata": {},
   "source": [
    "## Solution\n",
    "a + b + c = 1000\n",
    "\n",
    "so a2 + b2 + c2 + 2ab + 2bc + 2ca = 1000000 \n",
    "\n",
    "and a2 + b2 = c2 \n",
    "\n",
    "=> 2(c2) + 2(ab + bc + ac) = 1000000 \n",
    "\n",
    "=> c2 + ab + bc + ca = 500000\n",
    "\n",
    "\n",
    "ehhhh"
   ]
  },
  {
   "cell_type": "code",
   "execution_count": 7,
   "id": "later-water",
   "metadata": {},
   "outputs": [
    {
     "name": "stdout",
     "output_type": "stream",
     "text": [
      "200 375 425\n",
      "31875000\n",
      "375 200 425\n",
      "31875000\n"
     ]
    }
   ],
   "source": [
    "a = 1\n",
    "for a in range(1, 1000):\n",
    "    for b in range(1, 1000):\n",
    "        c = 1000 - (a + b)\n",
    "        if (pow(a, 2) + pow(b, 2)) == pow(c, 2):\n",
    "            print(a, b, c)\n",
    "            print(a*b*c)\n",
    "        if c >= 0:\n",
    "            pass\n",
    "        \n",
    "# answer : 31875000"
   ]
  }
 ],
 "metadata": {
  "kernelspec": {
   "display_name": "Python 3",
   "language": "python",
   "name": "python3"
  },
  "language_info": {
   "codemirror_mode": {
    "name": "ipython",
    "version": 3
   },
   "file_extension": ".py",
   "mimetype": "text/x-python",
   "name": "python",
   "nbconvert_exporter": "python",
   "pygments_lexer": "ipython3",
   "version": "3.6.8"
  }
 },
 "nbformat": 4,
 "nbformat_minor": 5
}
