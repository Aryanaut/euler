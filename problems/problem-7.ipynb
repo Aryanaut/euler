{
 "cells": [
  {
   "cell_type": "markdown",
   "id": "exempt-entrance",
   "metadata": {},
   "source": [
    "## Problem 7\n",
    "By listing the first six prime numbers: 2, 3, 5, 7, 11, and 13, we can see that the 6th prime is 13.\n",
    "\n",
    "What is the 10 001st prime number?"
   ]
  },
  {
   "cell_type": "markdown",
   "id": "brief-likelihood",
   "metadata": {},
   "source": [
    "## Solution\n",
    " - make list p[]\n",
    " - while True: find all primes. when prime is found, increase count by 1 and \n",
    " - if count = 10001, break out of the loop\n",
    " - print the last term of p[]"
   ]
  },
  {
   "cell_type": "code",
   "execution_count": 1,
   "id": "looking-fighter",
   "metadata": {},
   "outputs": [],
   "source": [
    "import math"
   ]
  },
  {
   "cell_type": "code",
   "execution_count": 39,
   "id": "baking-circulation",
   "metadata": {},
   "outputs": [],
   "source": [
    "def isPrime(n):\n",
    "    if n > 1:\n",
    "        for i in range(2, int(math.sqrt(n))+1):\n",
    "            if (n % i) == 0:\n",
    "                prime = False\n",
    "                break\n",
    "        else:\n",
    "            prime = True\n",
    "    else:\n",
    "        prime = False\n",
    "    return prime"
   ]
  },
  {
   "cell_type": "code",
   "execution_count": 42,
   "id": "portuguese-hearing",
   "metadata": {},
   "outputs": [
    {
     "name": "stdout",
     "output_type": "stream",
     "text": [
      "104743\n"
     ]
    }
   ],
   "source": [
    "p = []\n",
    "count = 0\n",
    "number = 2\n",
    "while True:\n",
    "    if isPrime(number) == True:\n",
    "        p.append(number)\n",
    "        count += 1\n",
    "    if count == 10001:\n",
    "        break\n",
    "    number += 1\n",
    "    \n",
    "print(p[len(p)-1])"
   ]
  }
 ],
 "metadata": {
  "kernelspec": {
   "display_name": "Python 3",
   "language": "python",
   "name": "python3"
  },
  "language_info": {
   "codemirror_mode": {
    "name": "ipython",
    "version": 3
   },
   "file_extension": ".py",
   "mimetype": "text/x-python",
   "name": "python",
   "nbconvert_exporter": "python",
   "pygments_lexer": "ipython3",
   "version": "3.6.8"
  }
 },
 "nbformat": 4,
 "nbformat_minor": 5
}
